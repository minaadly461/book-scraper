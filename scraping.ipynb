{
 "cells": [
  {
   "cell_type": "code",
   "execution_count": 1,
   "id": "bd0535ba",
   "metadata": {},
   "outputs": [],
   "source": [
    "from bs4 import BeautifulSoup\n",
    "import requests\n",
    "\n",
    "url = 'https://books.toscrape.com/catalogue/page-1.html'\n",
    "\n",
    "html = requests.get(url).text\n",
    "\n",
    "soup = BeautifulSoup(html , \"html.parser\")"
   ]
  },
  {
   "cell_type": "code",
   "execution_count": 2,
   "id": "0b189843",
   "metadata": {},
   "outputs": [
    {
     "data": {
      "text/plain": [
       "<title>\n",
       "    All products | Books to Scrape - Sandbox\n",
       "</title>"
      ]
     },
     "execution_count": 2,
     "metadata": {},
     "output_type": "execute_result"
    }
   ],
   "source": [
    "soup.title\n"
   ]
  },
  {
   "cell_type": "code",
   "execution_count": 3,
   "id": "4635fa16",
   "metadata": {},
   "outputs": [
    {
     "data": {
      "text/plain": [
       "<a href=\"../index.html\">Books to Scrape</a>"
      ]
     },
     "execution_count": 3,
     "metadata": {},
     "output_type": "execute_result"
    }
   ],
   "source": [
    "soup.a"
   ]
  },
  {
   "cell_type": "code",
   "execution_count": 4,
   "id": "c4fb8e52",
   "metadata": {},
   "outputs": [],
   "source": [
    "link = soup.find(\"h3\").find(\"a\")\n",
    "\n",
    "title = link.get(\"title\")"
   ]
  },
  {
   "cell_type": "code",
   "execution_count": 5,
   "id": "9cfd96a3",
   "metadata": {},
   "outputs": [
    {
     "data": {
      "text/plain": [
       "'A Light in the Attic'"
      ]
     },
     "execution_count": 5,
     "metadata": {},
     "output_type": "execute_result"
    }
   ],
   "source": [
    "title"
   ]
  },
  {
   "cell_type": "code",
   "execution_count": 7,
   "id": "58211185",
   "metadata": {},
   "outputs": [],
   "source": [
    "books = soup.find_all(\"article\" , class_=\"product_pod\")\n"
   ]
  },
  {
   "cell_type": "code",
   "execution_count": 8,
   "id": "4bb0f7a2",
   "metadata": {},
   "outputs": [
    {
     "data": {
      "text/plain": [
       "['A Light in the Attic',\n",
       " 'Tipping the Velvet',\n",
       " 'Soumission',\n",
       " 'Sharp Objects',\n",
       " 'Sapiens: A Brief History of Humankind',\n",
       " 'The Requiem Red',\n",
       " 'The Dirty Little Secrets of Getting Your Dream Job',\n",
       " 'The Coming Woman: A Novel Based on the Life of the Infamous Feminist, Victoria Woodhull',\n",
       " 'The Boys in the Boat: Nine Americans and Their Epic Quest for Gold at the 1936 Berlin Olympics',\n",
       " 'The Black Maria',\n",
       " 'Starving Hearts (Triangular Trade Trilogy, #1)',\n",
       " \"Shakespeare's Sonnets\",\n",
       " 'Set Me Free',\n",
       " \"Scott Pilgrim's Precious Little Life (Scott Pilgrim #1)\",\n",
       " 'Rip it Up and Start Again',\n",
       " 'Our Band Could Be Your Life: Scenes from the American Indie Underground, 1981-1991',\n",
       " 'Olio',\n",
       " 'Mesaerion: The Best Science Fiction Stories 1800-1849',\n",
       " 'Libertarianism for Beginners',\n",
       " \"It's Only the Himalayas\"]"
      ]
     },
     "execution_count": 8,
     "metadata": {},
     "output_type": "execute_result"
    }
   ],
   "source": [
    "titles = [book.h3.a.get(\"title\") for book in books]\n",
    "titles"
   ]
  },
  {
   "cell_type": "code",
   "execution_count": 10,
   "id": "40d4dfb0",
   "metadata": {},
   "outputs": [
    {
     "data": {
      "text/plain": [
       "['Â£51.77',\n",
       " 'Â£53.74',\n",
       " 'Â£50.10',\n",
       " 'Â£47.82',\n",
       " 'Â£54.23',\n",
       " 'Â£22.65',\n",
       " 'Â£33.34',\n",
       " 'Â£17.93',\n",
       " 'Â£22.60',\n",
       " 'Â£52.15',\n",
       " 'Â£13.99',\n",
       " 'Â£20.66',\n",
       " 'Â£17.46',\n",
       " 'Â£52.29',\n",
       " 'Â£35.02',\n",
       " 'Â£57.25',\n",
       " 'Â£23.88',\n",
       " 'Â£37.59',\n",
       " 'Â£51.33',\n",
       " 'Â£45.17']"
      ]
     },
     "execution_count": 10,
     "metadata": {},
     "output_type": "execute_result"
    }
   ],
   "source": [
    "prices = [book.find(\"p\",class_=\"price_color\").text for book in books]\n",
    "prices"
   ]
  },
  {
   "cell_type": "code",
   "execution_count": 12,
   "id": "b702f576",
   "metadata": {},
   "outputs": [
    {
     "data": {
      "text/plain": [
       "['In stock',\n",
       " 'In stock',\n",
       " 'In stock',\n",
       " 'In stock',\n",
       " 'In stock',\n",
       " 'In stock',\n",
       " 'In stock',\n",
       " 'In stock',\n",
       " 'In stock',\n",
       " 'In stock',\n",
       " 'In stock',\n",
       " 'In stock',\n",
       " 'In stock',\n",
       " 'In stock',\n",
       " 'In stock',\n",
       " 'In stock',\n",
       " 'In stock',\n",
       " 'In stock',\n",
       " 'In stock',\n",
       " 'In stock']"
      ]
     },
     "execution_count": 12,
     "metadata": {},
     "output_type": "execute_result"
    }
   ],
   "source": [
    "stock_availability = [book.find(\"p\",class_=\"instock availability\").get_text(strip=True) for book in books]\n",
    "stock_availability"
   ]
  },
  {
   "cell_type": "code",
   "execution_count": 13,
   "id": "9bc222fe",
   "metadata": {},
   "outputs": [
    {
     "data": {
      "text/plain": [
       "{'title': ['A Light in the Attic',\n",
       "  'Tipping the Velvet',\n",
       "  'Soumission',\n",
       "  'Sharp Objects',\n",
       "  'Sapiens: A Brief History of Humankind',\n",
       "  'The Requiem Red',\n",
       "  'The Dirty Little Secrets of Getting Your Dream Job',\n",
       "  'The Coming Woman: A Novel Based on the Life of the Infamous Feminist, Victoria Woodhull',\n",
       "  'The Boys in the Boat: Nine Americans and Their Epic Quest for Gold at the 1936 Berlin Olympics',\n",
       "  'The Black Maria',\n",
       "  'Starving Hearts (Triangular Trade Trilogy, #1)',\n",
       "  \"Shakespeare's Sonnets\",\n",
       "  'Set Me Free',\n",
       "  \"Scott Pilgrim's Precious Little Life (Scott Pilgrim #1)\",\n",
       "  'Rip it Up and Start Again',\n",
       "  'Our Band Could Be Your Life: Scenes from the American Indie Underground, 1981-1991',\n",
       "  'Olio',\n",
       "  'Mesaerion: The Best Science Fiction Stories 1800-1849',\n",
       "  'Libertarianism for Beginners',\n",
       "  \"It's Only the Himalayas\"],\n",
       " 'price': ['Â£51.77',\n",
       "  'Â£53.74',\n",
       "  'Â£50.10',\n",
       "  'Â£47.82',\n",
       "  'Â£54.23',\n",
       "  'Â£22.65',\n",
       "  'Â£33.34',\n",
       "  'Â£17.93',\n",
       "  'Â£22.60',\n",
       "  'Â£52.15',\n",
       "  'Â£13.99',\n",
       "  'Â£20.66',\n",
       "  'Â£17.46',\n",
       "  'Â£52.29',\n",
       "  'Â£35.02',\n",
       "  'Â£57.25',\n",
       "  'Â£23.88',\n",
       "  'Â£37.59',\n",
       "  'Â£51.33',\n",
       "  'Â£45.17'],\n",
       " 'stock_availability': ['In stock',\n",
       "  'In stock',\n",
       "  'In stock',\n",
       "  'In stock',\n",
       "  'In stock',\n",
       "  'In stock',\n",
       "  'In stock',\n",
       "  'In stock',\n",
       "  'In stock',\n",
       "  'In stock',\n",
       "  'In stock',\n",
       "  'In stock',\n",
       "  'In stock',\n",
       "  'In stock',\n",
       "  'In stock',\n",
       "  'In stock',\n",
       "  'In stock',\n",
       "  'In stock',\n",
       "  'In stock',\n",
       "  'In stock']}"
      ]
     },
     "execution_count": 13,
     "metadata": {},
     "output_type": "execute_result"
    }
   ],
   "source": [
    "page_1 = {\n",
    "  \"title\":titles,\n",
    "  \"price\":prices,\n",
    "  \"stock_availability\":stock_availability\n",
    "}\n",
    "page_1"
   ]
  },
  {
   "cell_type": "code",
   "execution_count": 15,
   "id": "25980350",
   "metadata": {},
   "outputs": [],
   "source": [
    "all_books = []\n",
    "\n",
    "for page in range(1,51):\n",
    "  url = f\"http://books.toscrape.com/catalogue/page-{page}.html\"\n",
    "  response = requests.get(url)\n",
    "  soup = BeautifulSoup(response.text , \"html.parser\")\n",
    "\n",
    "  books = soup.find_all(\"article\" , class_=\"product_pod\")\n",
    "\n",
    "  for book in books:\n",
    "    title = book.h3.a.get(\"title\")\n",
    "    price = book.find(\"p\", class_=\"price_color\").get_text(strip=True)\n",
    "    stock = book.find(\"p\", class_=\"instock availability\").get_text(strip=True)\n",
    "\n",
    "    all_books.append({\n",
    "      \"title\": title,\n",
    "      \"price\": price,\n",
    "      \"stock_availability\": stock\n",
    "    })"
   ]
  },
  {
   "cell_type": "code",
   "execution_count": 16,
   "id": "dba29f86",
   "metadata": {},
   "outputs": [
    {
     "name": "stdout",
     "output_type": "stream",
     "text": [
      "1000\n",
      "[{'title': 'A Light in the Attic', 'price': 'Â£51.77', 'stock_availability': 'In stock'}, {'title': 'Tipping the Velvet', 'price': 'Â£53.74', 'stock_availability': 'In stock'}, {'title': 'Soumission', 'price': 'Â£50.10', 'stock_availability': 'In stock'}, {'title': 'Sharp Objects', 'price': 'Â£47.82', 'stock_availability': 'In stock'}, {'title': 'Sapiens: A Brief History of Humankind', 'price': 'Â£54.23', 'stock_availability': 'In stock'}]\n"
     ]
    }
   ],
   "source": [
    "print(len(all_books))  # should be 1000 books total\n",
    "print(all_books[:5])  "
   ]
  },
  {
   "cell_type": "code",
   "execution_count": 19,
   "id": "d73faa87",
   "metadata": {},
   "outputs": [],
   "source": [
    "import pandas as pd \n",
    "\n",
    "\n",
    "df = pd.DataFrame(all_books)\n",
    "\n",
    "df.to_csv(\"C:/cs/books.csv\", index=False, encoding=\"utf-8\")\n",
    "\n"
   ]
  }
 ],
 "metadata": {
  "kernelspec": {
   "display_name": "base",
   "language": "python",
   "name": "python3"
  },
  "language_info": {
   "codemirror_mode": {
    "name": "ipython",
    "version": 3
   },
   "file_extension": ".py",
   "mimetype": "text/x-python",
   "name": "python",
   "nbconvert_exporter": "python",
   "pygments_lexer": "ipython3",
   "version": "3.11.7"
  }
 },
 "nbformat": 4,
 "nbformat_minor": 5
}
